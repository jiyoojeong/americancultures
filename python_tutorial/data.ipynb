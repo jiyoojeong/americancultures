{
 "cells": [
  {
   "cell_type": "code",
   "execution_count": 4,
   "metadata": {},
   "outputs": [],
   "source": [
    "import pickle"
   ]
  },
  {
   "cell_type": "code",
   "execution_count": 20,
   "metadata": {},
   "outputs": [],
   "source": [
    "senders = ['jiyoojeong@berkeley.edu', 'americancultures@berkeley.edu', 'douglas@gmail.com', 'cmangali@berkeley.org', 'kelly@kelly.com', 'info@krishna.com', 'jiyooj@mgail.com', 'abc@berkeley.edu', 'dparada@berkeley.edu', 'victoriarobbi@berkeley.edu', 'ac@berkeley.edu']\n",
    "subject = ['THIS IS SUPER IMPORTANT!', 'Newsletter 1902: The ...', '[OFFICIAL] Your Upcoming Report', \n",
    "'this is a very important message for you. i really need really really need to speak with you about something. i might be dying please open this email plase pleas pelase!!!.',\n",
    "'hi', 'Your order is ready to ship', '[Offical]! Important Newsletter', 'random question what makes humans human', 'After over thirty years and the development of hundreds of courses the American Cultures requirement has become a staple of the undergraduate experience at UC Berkeley fundamentally changing and challenging the undergraduate curriculum to better present the diversity of the American experience',\n",
    "'Timely Reminder that you should go to Berkeley Bowl today', 'URGENT please confirm your reservation by EOD']\n",
    "\n"
   ]
  },
  {
   "cell_type": "code",
   "execution_count": 21,
   "metadata": {},
   "outputs": [
    {
     "data": {
      "text/plain": [
       "(11, 11)"
      ]
     },
     "execution_count": 21,
     "metadata": {},
     "output_type": "execute_result"
    }
   ],
   "source": [
    "len(senders), len(subject)"
   ]
  },
  {
   "cell_type": "code",
   "execution_count": 22,
   "metadata": {},
   "outputs": [
    {
     "name": "stdout",
     "output_type": "stream",
     "text": [
      "24\n",
      "24\n",
      "31\n",
      "172\n",
      "2\n",
      "27\n",
      "31\n",
      "39\n",
      "294\n",
      "57\n",
      "45\n"
     ]
    }
   ],
   "source": [
    "for subj in subject:\n",
    "    print(len(subj))"
   ]
  },
  {
   "cell_type": "code",
   "execution_count": 23,
   "metadata": {},
   "outputs": [],
   "source": [
    "data = []\n",
    "for i in range(len(subject)):\n",
    "    d = {'email': senders[i], 'subject': subject[i]}\n",
    "    data.append(d)\n"
   ]
  },
  {
   "cell_type": "code",
   "execution_count": 24,
   "metadata": {},
   "outputs": [
    {
     "data": {
      "text/plain": [
       "[{'email': 'jiyoojeong@berkeley.edu', 'subject': 'THIS IS SUPER IMPORTANT!'},\n",
       " {'email': 'americancultures@berkeley.edu',\n",
       "  'subject': 'Newsletter 1902: The ...'},\n",
       " {'email': 'douglas@gmail.com', 'subject': '[OFFICIAL] Your Upcoming Report'},\n",
       " {'email': 'cmangali@berkeley.org',\n",
       "  'subject': 'this is a very important message for you. i really need really really need to speak with you about something. i might be dying please open this email plase pleas pelase!!!.'},\n",
       " {'email': 'kelly@kelly.com', 'subject': 'hi'},\n",
       " {'email': 'info@krishna.com', 'subject': 'Your order is ready to ship'},\n",
       " {'email': 'jiyooj@mgail.com', 'subject': '[Offical]! Important Newsletter'},\n",
       " {'email': 'abc@berkeley.edu',\n",
       "  'subject': 'random question what makes humans human'},\n",
       " {'email': 'dparada@berkeley.edu',\n",
       "  'subject': 'After over thirty years and the development of hundreds of courses the American Cultures requirement has become a staple of the undergraduate experience at UC Berkeley fundamentally changing and challenging the undergraduate curriculum to better present the diversity of the American experience'},\n",
       " {'email': 'victoriarobbi@berkeley.edu',\n",
       "  'subject': 'Timely Reminder that you should go to Berkeley Bowl today'},\n",
       " {'email': 'ac@berkeley.edu',\n",
       "  'subject': 'URGENT please confirm your reservation by EOD'}]"
      ]
     },
     "execution_count": 24,
     "metadata": {},
     "output_type": "execute_result"
    }
   ],
   "source": [
    "data"
   ]
  },
  {
   "cell_type": "code",
   "execution_count": 25,
   "metadata": {},
   "outputs": [],
   "source": [
    "with open('email_data.pkl', 'wb') as file:\n",
    "    pickle.dump(data, file)\n",
    "    "
   ]
  },
  {
   "cell_type": "code",
   "execution_count": null,
   "metadata": {},
   "outputs": [],
   "source": []
  }
 ],
 "metadata": {
  "kernelspec": {
   "display_name": "Python 3",
   "language": "python",
   "name": "python3"
  },
  "language_info": {
   "codemirror_mode": {
    "name": "ipython",
    "version": 3
   },
   "file_extension": ".py",
   "mimetype": "text/x-python",
   "name": "python",
   "nbconvert_exporter": "python",
   "pygments_lexer": "ipython3",
   "version": "3.9.6"
  },
  "orig_nbformat": 4,
  "vscode": {
   "interpreter": {
    "hash": "31f2aee4e71d21fbe5cf8b01ff0e069b9275f58929596ceb00d14d90e3e16cd6"
   }
  }
 },
 "nbformat": 4,
 "nbformat_minor": 2
}

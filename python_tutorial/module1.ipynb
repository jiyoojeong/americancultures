{
 "cells": [
  {
   "attachments": {},
   "cell_type": "markdown",
   "metadata": {},
   "source": [
    "# MODULE 1: Python Fundamentals\n",
    "\n",
    "## Part A. Objects\n",
    "\n",
    "Objects are things that hold value. For example, we can create \"BLAHBLAH\" and it hold value. \n",
    "\n",
    "Objects kind of work like 'nouns' of a pythonic sentence. \n",
    "\n",
    "Somewhere in computer memory, it holds this *instance* of \"BLAHBLAH\".\n",
    "\n",
    "But how can we keep referring back to our original object that we created?\n",
    "\n",
    "Variables are also objects, but a special kind that are considered pointers. \n",
    "\n",
    "It tells the computer and us like this is the thing we want to change or look at or reference. \n",
    "\n",
    "Thus, giving us a lot of flexibility to *mutate* objects.\n"
   ]
  },
  {
   "cell_type": "code",
   "execution_count": 1,
   "metadata": {},
   "outputs": [
    {
     "data": {
      "text/plain": [
       "'BLAHBLAH'"
      ]
     },
     "execution_count": 1,
     "metadata": {},
     "output_type": "execute_result"
    }
   ],
   "source": [
    "# FOR EXAMPLE\n",
    "\"BLAHBLAH\""
   ]
  },
  {
   "cell_type": "code",
   "execution_count": 12,
   "metadata": {},
   "outputs": [
    {
     "name": "stdout",
     "output_type": "stream",
     "text": [
      "OUR ORIGINAL STRING: BLAH\n",
      "FIRST CHAR VARIABLE VALUE: B\n",
      "we can also change our pointer to something completely different.\n",
      "FIRST CHAR VARIABLE VALUE: 100\n",
      "but our original string stays the same: BLAH\n",
      "or maybe i want to change my original string:\n",
      "OUR ORIGINAL STRING: blah\n"
     ]
    }
   ],
   "source": [
    "our_original_string = \"BLAH\"\n",
    "print(\"OUR ORIGINAL STRING:\", our_original_string)\n",
    "\n",
    "first_char = our_original_string[0]\n",
    "print('FIRST CHAR VARIABLE VALUE:', first_char)\n",
    "\n",
    "print('we can also change our pointer to something completely different.')\n",
    "\n",
    "first_char = 100\n",
    "print(\"FIRST CHAR VARIABLE VALUE:\", first_char)\n",
    "\n",
    "print('but our original string stays the same:', our_original_string)\n",
    "\n",
    "print('or maybe i want to change my original string:')\n",
    "# I can make it all lowercase\n",
    "our_original_string = our_original_string.lower()\n",
    "print('OUR ORIGINAL STRING:', our_original_string)"
   ]
  },
  {
   "attachments": {},
   "cell_type": "markdown",
   "metadata": {},
   "source": [
    "There are some common practices when naming variables:\n",
    "- No starting with a number.\n",
    "- u cant use python native classes like \"int\" \"str\" or functions ... these words will highlight differently when you type them so you'll know.\n",
    "- try to not be ambiguous with variable names like using single letters or generic words like \"foo\" or \"x\". It gets complicated as your code gets more complicated."
   ]
  },
  {
   "attachments": {},
   "cell_type": "markdown",
   "metadata": {},
   "source": [
    "### STRINGS basics\n",
    "\n"
   ]
  },
  {
   "cell_type": "code",
   "execution_count": 13,
   "metadata": {},
   "outputs": [
    {
     "data": {
      "text/plain": [
       "'a'"
      ]
     },
     "execution_count": 13,
     "metadata": {},
     "output_type": "execute_result"
    }
   ],
   "source": [
    "# INDEXING A STRING\n",
    "i = 0  # TODO FOR YOU: change i and run the code to see how it affects the cell output\n",
    "test_string = 'abcdef'\n",
    "test_string[i]"
   ]
  },
  {
   "cell_type": "code",
   "execution_count": 16,
   "metadata": {},
   "outputs": [],
   "source": [
    "# BASIC built in string functions https://www.w3schools.com/python/python_ref_string.asp \n",
    "# try to walk through 2 these doc strings on this test string:\n",
    "test_string_2 = '  AbCdEfGG      '\n",
    "# case: lower()/upper()\n",
    "# find: index()\n",
    "# strip white space: lstrip/rstrip/strip\n",
    "# replace a value in the string: replace()\n",
    "# count number of a substring: count()\n",
    "# length: len()\n",
    "\n"
   ]
  },
  {
   "attachments": {},
   "cell_type": "markdown",
   "metadata": {},
   "source": [
    "### LISTS & Dictionaries"
   ]
  },
  {
   "attachments": {},
   "cell_type": "markdown",
   "metadata": {},
   "source": [
    "Strings are similar to lists and in some languages are actually the same type of object! (ie. a string is a list of characters.) \n",
    "\n",
    "Lists are basically like lists we know in real life: grocery lists, classes lists, excel sheets.\n",
    "\n",
    "We can add or remove or locate elements in a list.\n",
    "\n",
    "\n",
    "we use the '[]' to indicate the start of an empty list.\n",
    "\n",
    "\n",
    "we can use '[1, 2, 3]' to make a list containing 1, 2, and 3!\n"
   ]
  },
  {
   "cell_type": "code",
   "execution_count": 18,
   "metadata": {},
   "outputs": [
    {
     "data": {
      "text/plain": [
       "[]"
      ]
     },
     "execution_count": 18,
     "metadata": {},
     "output_type": "execute_result"
    }
   ],
   "source": [
    "example_empty_list = []\n",
    "example_empty_list"
   ]
  },
  {
   "cell_type": "code",
   "execution_count": 19,
   "metadata": {},
   "outputs": [
    {
     "data": {
      "text/plain": [
       "[1, 2, 'a', 'b']"
      ]
     },
     "execution_count": 19,
     "metadata": {},
     "output_type": "execute_result"
    }
   ],
   "source": [
    "\n",
    "example_simple_list = [1, 2, 'a', 'b']\n",
    "example_simple_list"
   ]
  },
  {
   "cell_type": "code",
   "execution_count": 20,
   "metadata": {},
   "outputs": [
    {
     "data": {
      "text/plain": [
       "['  AbCdEfGG      ']"
      ]
     },
     "execution_count": 20,
     "metadata": {},
     "output_type": "execute_result"
    }
   ],
   "source": [
    "\n",
    "example_simple_list2 = [test_string_2]\n",
    "example_simple_list2"
   ]
  },
  {
   "cell_type": "code",
   "execution_count": null,
   "metadata": {},
   "outputs": [],
   "source": [
    "# COMMON LIST OPERATIONS\n",
    "\n",
    "# length: len()\n",
    "# removing: pop(), remove()\n",
    "# ordering: reverse(), sort()\n",
    "# adding: append() vs extend()\n",
    "# accessing: using bracket indexing\n",
    "# updating: using bracket indexing\n",
    "# max/min: max(), min()\n"
   ]
  },
  {
   "attachments": {},
   "cell_type": "markdown",
   "metadata": {},
   "source": [
    "### DICTs"
   ]
  },
  {
   "cell_type": "code",
   "execution_count": 65,
   "metadata": {},
   "outputs": [],
   "source": [
    "empty_dictionary = {}\n",
    "single_dictionary = {'id': 3004}\n",
    "simple_dictionary = {'id': 3004,\n",
    "                     'name': 'potato',\n",
    "                     'attributes': ['brown', 'small', 'yummy when fried']}\n",
    "simple_dictionary_2 = {1:100,\n",
    "                       2:200,\n",
    "                       3:300,\n",
    "                       4:400,}\n"
   ]
  },
  {
   "cell_type": "code",
   "execution_count": null,
   "metadata": {},
   "outputs": [],
   "source": [
    "# simple dictionary operations\n",
    "# indexing using dictionary[key] = value\n",
    "# grabbing keys() and values()\n",
    "# inverse a dictionary using: \n",
    "# loop thruogh a dictionary using dictionary.iteritems()\n",
    "\n",
    "# ** IMPORTANT RULE WITH DICTS ** you can't have two keys be identical in a dictionary. but you CAN have unique keys point to the same value.\n"
   ]
  },
  {
   "attachments": {},
   "cell_type": "markdown",
   "metadata": {},
   "source": [
    "## Part B. Operations\n",
    "\n",
    "- operations with numbers\n",
    "- operations with strings\n",
    "- operations with functions\n",
    "- loops"
   ]
  },
  {
   "cell_type": "code",
   "execution_count": 21,
   "metadata": {},
   "outputs": [],
   "source": [
    "import numpy as np # import numpy library for some math functions \n",
    "import math\n",
    "\n",
    "# SIMPOL MATH\n",
    "# addition, subtraction, multiplication, divide, power, mod (aka remainder),\n"
   ]
  },
  {
   "cell_type": "code",
   "execution_count": 22,
   "metadata": {},
   "outputs": [],
   "source": [
    "# try 1 + 1\n",
    "addition = ...\n",
    "print('RESULT SHOULD BE 2. addition =', addition)\n",
    "\n"
   ]
  },
  {
   "attachments": {},
   "cell_type": "markdown",
   "metadata": {},
   "source": [
    "you can also add strings and lists!"
   ]
  },
  {
   "cell_type": "code",
   "execution_count": 24,
   "metadata": {},
   "outputs": [
    {
     "data": {
      "text/plain": [
       "'ab'"
      ]
     },
     "execution_count": 24,
     "metadata": {},
     "output_type": "execute_result"
    }
   ],
   "source": [
    "#string concatenation using \"+\" operator\n",
    " \n",
    "'a' + 'b'"
   ]
  },
  {
   "cell_type": "code",
   "execution_count": 23,
   "metadata": {},
   "outputs": [
    {
     "data": {
      "text/plain": [
       "[1, 2, 3, 4]"
      ]
     },
     "execution_count": 23,
     "metadata": {},
     "output_type": "execute_result"
    }
   ],
   "source": [
    "# list extension using \"+ operator\"\n",
    "\n",
    "[1, 2, 3] + [4]"
   ]
  },
  {
   "cell_type": "code",
   "execution_count": null,
   "metadata": {},
   "outputs": [],
   "source": [
    "# try 10-29\n",
    "\n",
    "subtraction = ...\n",
    "print('RESULT SHOULD BE -19. subtraction =', subtraction)"
   ]
  },
  {
   "cell_type": "code",
   "execution_count": null,
   "metadata": {},
   "outputs": [],
   "source": [
    "# try 3*2*2\n",
    "multiplication = ...\n",
    "print('RESULT SHOULD BE 12. multiplication =', multiplication)"
   ]
  },
  {
   "cell_type": "code",
   "execution_count": null,
   "metadata": {},
   "outputs": [],
   "source": [
    "# try divide.\n",
    "\n",
    "# first: try a regular divide 3/2\n",
    "regular_divide = ...\n",
    "print('result should be 1.5. regular_divide = ', regular_divide)\n",
    "\n",
    "# second: try a integer divide with two // marks (this rounds down to the nearest integer) \"3//2\"\n",
    "floor_divide = ...\n",
    "print('result should be 1. floor_divide =', floor_divide)"
   ]
  },
  {
   "cell_type": "code",
   "execution_count": 28,
   "metadata": {},
   "outputs": [
    {
     "ename": "TypeError",
     "evalue": "unsupported operand type(s) for ** or pow(): 'ellipsis' and 'ellipsis'",
     "output_type": "error",
     "traceback": [
      "\u001b[0;31m---------------------------------------------------------------------------\u001b[0m",
      "\u001b[0;31mTypeError\u001b[0m                                 Traceback (most recent call last)",
      "\u001b[0;32m/var/folders/qy/_63fr53576jg7c3f1bct9sb40000gn/T/ipykernel_42021/68200008.py\u001b[0m in \u001b[0;36m<module>\u001b[0;34m\u001b[0m\n\u001b[1;32m      8\u001b[0m \u001b[0mpower\u001b[0m \u001b[0;34m=\u001b[0m \u001b[0;34m...\u001b[0m\u001b[0;34m\u001b[0m\u001b[0;34m\u001b[0m\u001b[0m\n\u001b[1;32m      9\u001b[0m \u001b[0;34m\u001b[0m\u001b[0m\n\u001b[0;32m---> 10\u001b[0;31m \u001b[0mmath_power\u001b[0m \u001b[0;34m=\u001b[0m \u001b[0mnp\u001b[0m\u001b[0;34m.\u001b[0m\u001b[0mpower\u001b[0m\u001b[0;34m(\u001b[0m\u001b[0mbase\u001b[0m\u001b[0;34m,\u001b[0m \u001b[0mpower\u001b[0m\u001b[0;34m)\u001b[0m\u001b[0;34m\u001b[0m\u001b[0;34m\u001b[0m\u001b[0m\n\u001b[0m\u001b[1;32m     11\u001b[0m \u001b[0;34m\u001b[0m\u001b[0m\n\u001b[1;32m     12\u001b[0m \u001b[0mprint\u001b[0m\u001b[0;34m(\u001b[0m\u001b[0mstarstar_power\u001b[0m\u001b[0;34m,\u001b[0m \u001b[0mmath_power\u001b[0m\u001b[0;34m)\u001b[0m\u001b[0;34m\u001b[0m\u001b[0;34m\u001b[0m\u001b[0m\n",
      "\u001b[0;31mTypeError\u001b[0m: unsupported operand type(s) for ** or pow(): 'ellipsis' and 'ellipsis'"
     ]
    }
   ],
   "source": [
    "# power\n",
    "\n",
    "# first: regularly 10**2\n",
    "starstar_power = ...\n",
    "\n",
    "# second: example using math library. set base and power variables to pass the assertion below.\n",
    "base = ...\n",
    "power = ...\n",
    "\n",
    "math_power = np.power(base, power)\n",
    "\n",
    "print(starstar_power, math_power)\n",
    "assert starstar_power == math_power"
   ]
  },
  {
   "attachments": {},
   "cell_type": "markdown",
   "metadata": {},
   "source": [
    "### FUNCTIONS!\n",
    "\n",
    "most of the time we want to be doing things that are more complex than one liners\n",
    "\n",
    "We can build out functions to modularize repetitive code to help make our lives easier."
   ]
  },
  {
   "cell_type": "code",
   "execution_count": 30,
   "metadata": {},
   "outputs": [
    {
     "data": {
      "text/plain": [
       "['unread', 'unread', 'unread', 'unread', 'unread']"
      ]
     },
     "execution_count": 30,
     "metadata": {},
     "output_type": "execute_result"
    }
   ],
   "source": [
    "email_data = ['unread'] * 5 # a list of 5 unread emails\n",
    "email_data"
   ]
  },
  {
   "attachments": {},
   "cell_type": "markdown",
   "metadata": {},
   "source": [
    "we want to go through and mark each one as read...\n",
    "\n",
    "we COULD do the simple way and go through each entry to change it manually like this:"
   ]
  },
  {
   "cell_type": "code",
   "execution_count": 32,
   "metadata": {},
   "outputs": [
    {
     "data": {
      "text/plain": [
       "['read', 'read', 'read', 'read', 'read']"
      ]
     },
     "execution_count": 32,
     "metadata": {},
     "output_type": "execute_result"
    }
   ],
   "source": [
    "email_data_2 = email_data.copy()\n",
    "email_data_2[0] = 'read'\n",
    "email_data_2[1] = 'read'\n",
    "email_data_2[2] = 'read'\n",
    "email_data_2[3] = 'read'\n",
    "email_data_2[4] = 'read'\n",
    "email_data_2"
   ]
  },
  {
   "attachments": {},
   "cell_type": "markdown",
   "metadata": {},
   "source": [
    "which does the trick but, what if we have 100s if not 1000s of emails?\n",
    "\n",
    "What if a thing we are looking at is infinite? \n",
    "\n",
    "what we can do is create a function & loops!\n",
    "\n",
    "functions have the following format:\n",
    "\n",
    "<code>def function_name(inputs):\n",
    "    *function operations* \n",
    "</code>"
   ]
  },
  {
   "cell_type": "code",
   "execution_count": 33,
   "metadata": {},
   "outputs": [],
   "source": [
    "def mark_read(email_idx):\n",
    "    email_data[email_idx] = 'read'\n",
    "    \n",
    "def mark_all_read(data):\n",
    "    for i in range(len(data)): # for index from the range (0) to len(email_data)\n",
    "        mark_read(i)\n",
    "    return data\n",
    "        "
   ]
  },
  {
   "attachments": {},
   "cell_type": "markdown",
   "metadata": {},
   "source": [
    "we can call functions like so:"
   ]
  },
  {
   "cell_type": "code",
   "execution_count": 35,
   "metadata": {},
   "outputs": [
    {
     "data": {
      "text/plain": [
       "['read', 'unread', 'unread', 'unread', 'unread']"
      ]
     },
     "execution_count": 35,
     "metadata": {},
     "output_type": "execute_result"
    }
   ],
   "source": [
    "mark_read(0)\n",
    "email_data"
   ]
  },
  {
   "cell_type": "code",
   "execution_count": 36,
   "metadata": {},
   "outputs": [
    {
     "data": {
      "text/plain": [
       "['read', 'read', 'read', 'read', 'read']"
      ]
     },
     "execution_count": 36,
     "metadata": {},
     "output_type": "execute_result"
    }
   ],
   "source": [
    "mark_all_read(email_data)"
   ]
  },
  {
   "attachments": {},
   "cell_type": "markdown",
   "metadata": {},
   "source": [
    "what if we want to condition that if the email is already read, we toggle back to unread?\n",
    "\n",
    "we can use if statements !\n",
    "\n",
    "also the great thing about functions is that you only need to write them once and u can reuse it anywhere as long as you created the method"
   ]
  },
  {
   "cell_type": "code",
   "execution_count": 41,
   "metadata": {},
   "outputs": [],
   "source": [
    "def mark_unread(email_idx):\n",
    "    email_data[email_idx] = 'unread'"
   ]
  },
  {
   "attachments": {},
   "cell_type": "markdown",
   "metadata": {},
   "source": [
    "## !Writing in pseudocode!\n",
    "\n",
    "writing out functions in english words how you want to approach the solution is best practice!\n",
    "\n",
    "So for example: say for the function \"mark_opposite\" we want to go through every data entry and mark each read email as unread and each unread email as read.\n",
    "\n",
    "our pseudocode might look something like:\n",
    "\n",
    "    for every index in the email list...\n",
    "\n",
    "        if it is already read,\n",
    "\n",
    "            mark as unread\n",
    "\n",
    "        otherwise\n",
    "\n",
    "            mark as read\n",
    "            \n",
    "    return edited list\n",
    "\n"
   ]
  },
  {
   "cell_type": "code",
   "execution_count": 38,
   "metadata": {},
   "outputs": [],
   "source": [
    "def mark_opposite(data):\n",
    "    for i in range(len(data)): # for every index from the range 0 to end of the list...\n",
    "        if data[i] == 'read': # if it is already read\n",
    "            mark_unread(i) # mark unread\n",
    "        else: # otherwise\n",
    "            mark_read(i) # mark as read\n",
    "    return data # return the list"
   ]
  },
  {
   "attachments": {},
   "cell_type": "markdown",
   "metadata": {},
   "source": [
    "*see how the comments (#...blah...) follow the pseudocode!*"
   ]
  },
  {
   "cell_type": "code",
   "execution_count": 42,
   "metadata": {},
   "outputs": [
    {
     "data": {
      "text/plain": [
       "['unread', 'unread', 'unread', 'unread', 'unread']"
      ]
     },
     "execution_count": 42,
     "metadata": {},
     "output_type": "execute_result"
    }
   ],
   "source": [
    "mark_opposite(email_data)"
   ]
  },
  {
   "cell_type": "code",
   "execution_count": 44,
   "metadata": {},
   "outputs": [
    {
     "data": {
      "text/plain": [
       "['unread', 'read', 'unread', 'unread', 'unread']"
      ]
     },
     "execution_count": 44,
     "metadata": {},
     "output_type": "execute_result"
    }
   ],
   "source": [
    "mark_read(1)\n",
    "email_data"
   ]
  },
  {
   "cell_type": "code",
   "execution_count": 45,
   "metadata": {},
   "outputs": [
    {
     "data": {
      "text/plain": [
       "['read', 'unread', 'read', 'read', 'read']"
      ]
     },
     "execution_count": 45,
     "metadata": {},
     "output_type": "execute_result"
    }
   ],
   "source": [
    "mark_opposite(email_data)"
   ]
  },
  {
   "attachments": {},
   "cell_type": "markdown",
   "metadata": {},
   "source": [
    "if statements can be very powerful tools!!\n"
   ]
  },
  {
   "cell_type": "code",
   "execution_count": 52,
   "metadata": {},
   "outputs": [
    {
     "name": "stdout",
     "output_type": "stream",
     "text": [
      "Jiyoo, I don't know who you are!\n"
     ]
    }
   ],
   "source": [
    "myFirstName = 'Jiyoo' # enter in your name.\n",
    "\n",
    "if myFirstName.lower() == 'doug':\n",
    "    print('my last name is Parada.')\n",
    "elif myFirstName.lower() == 'kelly': # THE ELIF! its a concatenation of the word else if\n",
    "    print('my last name is Zhen.')\n",
    "elif myFirstName.lower() == 'krishna':\n",
    "    print('my last name is Parekh.')\n",
    "elif myFirstName.lower() == 'clara':\n",
    "    print('my last name is Mangali.')\n",
    "else:\n",
    "    print(myFirstName+', I don\\'t know who you are!')"
   ]
  },
  {
   "attachments": {},
   "cell_type": "markdown",
   "metadata": {},
   "source": [
    "Is there any way you could have made this code more efficient?\n",
    "\n",
    "yes!"
   ]
  },
  {
   "cell_type": "code",
   "execution_count": 55,
   "metadata": {},
   "outputs": [
    {
     "name": "stdout",
     "output_type": "stream",
     "text": [
      "Jiyoo, I don't know who you are!\n"
     ]
    }
   ],
   "source": [
    "# ONE WAY:::\n",
    "myFirstName = \"Jiyoo\"\n",
    "fn_lower = myFirstName.lower()\n",
    "last_name = ''\n",
    "if fn_lower == 'doug':\n",
    "    last_name = 'Parada'\n",
    "elif fn_lower == 'kelly': # THE ELIF! its a concatenation of the word else if\n",
    "    last_name = 'Zhen'\n",
    "elif fn_lower == 'krishna':\n",
    "    last_name ='Parekh.'\n",
    "elif fn_lower == 'clara':\n",
    "    last_name = 'Mangali.'\n",
    "\n",
    "\n",
    "if last_name: # if last_name is not empty string, (ie. not none.)\n",
    "    print(\"My last name is \" + last_name)\n",
    "else:\n",
    "    print(myFirstName+', I don\\'t know who you are!')\n",
    "    \n",
    "    "
   ]
  },
  {
   "attachments": {},
   "cell_type": "markdown",
   "metadata": {},
   "source": [
    "We can actuallly make this even MORE \"black box\" by using dictionaries!\n",
    "\n",
    "dictionaries are very useful to create indexable lists:\n",
    "we can index by words and numbers instead of just the location of the object.\n",
    "\n",
    "more on dictionaries:"
   ]
  },
  {
   "cell_type": "code",
   "execution_count": 56,
   "metadata": {},
   "outputs": [
    {
     "name": "stdout",
     "output_type": "stream",
     "text": [
      "iteration 0 : {'doug': 'parada'}\n",
      "iteration 1 : {'doug': 'parada', 'kelly': 'zhen'}\n",
      "iteration 2 : {'doug': 'parada', 'kelly': 'zhen', 'krishna': 'parekh'}\n",
      "iteration 3 : {'doug': 'parada', 'kelly': 'zhen', 'krishna': 'parekh', 'clara': 'mangali'}\n",
      "iteration 4 : {'doug': 'parada', 'kelly': 'zhen', 'krishna': 'parekh', 'clara': 'mangali', 'jiyoo': 'jeong'}\n",
      "iteration 5 : {'doug': 'parada', 'kelly': 'zhen', 'krishna': 'parekh', 'clara': 'mangali', 'jiyoo': 'jeong', 'victoria': 'robinson'}\n"
     ]
    }
   ],
   "source": [
    "\n",
    "first_names = ['doug', 'kelly', 'krishna', 'clara', 'jiyoo', 'victoria']\n",
    "last_names = ['parada', 'zhen', 'parekh', 'mangali', 'jeong', 'robinson']\n",
    "first_and_last = {} # empty dictionary\n",
    "\n",
    "# lets fill the dictionary with our names:\n",
    "\n",
    "for i in range(len(first_names)):\n",
    "    fn = first_names[i]\n",
    "    ln = last_names[i]\n",
    "    first_and_last[fn] = ln \n",
    "    print('iteration', i, \":\", first_and_last)\n",
    "    "
   ]
  },
  {
   "cell_type": "code",
   "execution_count": 57,
   "metadata": {},
   "outputs": [
    {
     "name": "stdout",
     "output_type": "stream",
     "text": [
      "keys: dict_keys(['doug', 'kelly', 'krishna', 'clara', 'jiyoo', 'victoria'])\n",
      "my last name is jeong\n"
     ]
    }
   ],
   "source": [
    "\n",
    "myFirstName = \"Jiyoo\"\n",
    "fn_lower = myFirstName.lower()\n",
    "keys = first_and_last.keys() # .keys() gives us the index values of the dictionary as a list.\n",
    "print('keys:', keys)\n",
    "if fn_lower in first_and_last.keys(): \n",
    "    print(\"my last name is\", first_and_last[fn_lower])\n",
    "else:\n",
    "    print(myFirstName+', I don\\'t know who you are!')\n",
    "    "
   ]
  },
  {
   "cell_type": "markdown",
   "metadata": {},
   "source": [
    "we can also simplify making a dictionary to just \"zipping\" two lists together"
   ]
  },
  {
   "cell_type": "code",
   "execution_count": 64,
   "metadata": {},
   "outputs": [
    {
     "name": "stdout",
     "output_type": "stream",
     "text": [
      "[('doug', 'parada'), ('kelly', 'zhen'), ('krishna', 'parekh'), ('clara', 'mangali'), ('jiyoo', 'jeong'), ('victoria', 'robinson')]\n"
     ]
    }
   ],
   "source": [
    "fnln_zip = zip(first_names, last_names)\n",
    "print(list(fnln_zip))"
   ]
  },
  {
   "cell_type": "code",
   "execution_count": 63,
   "metadata": {},
   "outputs": [
    {
     "data": {
      "text/plain": [
       "{'doug': 'parada',\n",
       " 'kelly': 'zhen',\n",
       " 'krishna': 'parekh',\n",
       " 'clara': 'mangali',\n",
       " 'jiyoo': 'jeong',\n",
       " 'victoria': 'robinson'}"
      ]
     },
     "execution_count": 63,
     "metadata": {},
     "output_type": "execute_result"
    }
   ],
   "source": [
    "dict(fnln_zip)"
   ]
  },
  {
   "attachments": {},
   "cell_type": "markdown",
   "metadata": {},
   "source": [
    "Dictionaries are the stepping stone to dataframes so good to get familiar with this!"
   ]
  },
  {
   "cell_type": "code",
   "execution_count": null,
   "metadata": {},
   "outputs": [],
   "source": []
  },
  {
   "attachments": {},
   "cell_type": "markdown",
   "metadata": {},
   "source": [
    "## PART C. Mini Project\n"
   ]
  },
  {
   "attachments": {},
   "cell_type": "markdown",
   "metadata": {},
   "source": [
    "### building a simple spam bot!\n",
    "an email is NEVER spam if ONE OF THE FOLLOWING IS TRUE:\n",
    "- it is from one of our only two friends: americancultures@berkeley.edu or jiyoojeong@berkeley.edu\n",
    "- it has \"[OFFICIAL]\" in the subject\n",
    "\n",
    "\n",
    "(crudely) we'll consider an email spam if ANY OF THE FOLLOWING IS TRUE:\n",
    "- the subject has any numbers or symbols. -- see the 're' library\n",
    "- the subject has more than 100 characters.\n",
    "- the subject any typos (spellcheck using spellchecker library.) https://towardsdatascience.com/textblob-spelling-correction-46321fc7f8b8 \n",
    "- the email address is from outside @berkeley.edu\n",
    "\n",
    "If the above is true, we will consider it 70% possibility that it is a spam email.\n",
    "If the above is not true and is not a Never spam email, there is a 10% possibility it is a spam email."
   ]
  },
  {
   "attachments": {},
   "cell_type": "markdown",
   "metadata": {},
   "source": [
    "Project Skeleton Code:"
   ]
  },
  {
   "cell_type": "code",
   "execution_count": null,
   "metadata": {},
   "outputs": [],
   "source": [
    "import sys\n",
    "!{sys.executable} - m pip install spellchecker\n",
    "!{sys.executable} - m pip install pickle\n",
    "\n",
    "from spellchecker import SpellChecker # helps spellcheck.\n",
    "import pickle # packaging library for the data :)\n",
    "seed(123) # this sets the randomness to a fixed sequence of randomness (*ask me if ur curious)"
   ]
  },
  {
   "cell_type": "code",
   "execution_count": null,
   "metadata": {},
   "outputs": [],
   "source": [
    "# before doing anything... explore the data\n",
    "\n",
    "#This is a LIST of dictionaries with the same keys:\n",
    "#ie... [{email data 1}, {email data 2}, {email data 3}, ... etc.]\n",
    "# each email data looks like: {'email':___, 'subject':____}"
   ]
  },
  {
   "cell_type": "code",
   "execution_count": null,
   "metadata": {},
   "outputs": [],
   "source": [
    "# build a function that checks if it is NEVER SPAM\n",
    "def never_spam(email_dat):\n",
    "    '''\n",
    "    input: email_dat : a dictionary with email metadata.\n",
    "    output: boolean : True if the email is never spam.\n",
    "    '''\n",
    "    \n",
    "    sender_email = email_dat[...]\n",
    "    subject = email_dat[...]\n",
    "    if ... : # it is from one of our only two friends: americancultures@berkeley.edu or jiyoojeong@berkeley.edu\n",
    "        return True\n",
    "    elif ...: # it has \"[OFFICIAL]\" in the subject\n",
    "        return True\n",
    "    else:\n",
    "        return False\n"
   ]
  },
  {
   "cell_type": "code",
   "execution_count": null,
   "metadata": {},
   "outputs": [],
   "source": []
  },
  {
   "cell_type": "code",
   "execution_count": null,
   "metadata": {},
   "outputs": [],
   "source": [
    "# build a function that checks if it is spam\n",
    "def maybe_spam(email_dat):\n",
    "    '''\n",
    "    input: email_dat : a dictionary with email metadata.\n",
    "    output: boolean : True if the email has any of the following spam conditions.\n",
    "    \n",
    "    hint:: the spellchecker library is already imported for you. All you have to do is:\n",
    "        \n",
    "    '''\n",
    "    \n",
    "    sender_email = email_dat[...]\n",
    "    subject = email_dat[...]\n",
    "    \n",
    "    if ... : #the subject has any numbers or symbols. -- see the 're' library's re.search\n",
    "        return True\n",
    "    elif ...: # the subject has more than 100 characters.\n",
    "        return True\n",
    "    \n",
    "    # text blob set up\n",
    "    spell = SpellChecker()\n",
    "    misspelled = spell.unknown(...) # returns a list of typos in the string input.\n",
    "    number_misspelled = len(...)\n",
    "    if : # the subject any typos (spellcheck using textblob library.)\n",
    "        return True\n",
    "    elif ... : # the email address is from outside @berkeley.edu\n",
    "        return True\n",
    "    else:\n",
    "        return False\n",
    "    \n",
    "     "
   ]
  },
  {
   "attachments": {},
   "cell_type": "markdown",
   "metadata": {},
   "source": [
    "Now we have two functions. One that tells us to mark an email as real regardless of other conditions, and one that tells us if it falls under any spam email conditions.\n",
    "\n",
    "How should we use this to apply to filter through every email in our list?"
   ]
  },
  {
   "cell_type": "code",
   "execution_count": null,
   "metadata": {},
   "outputs": [],
   "source": [
    "status = []\n",
    "for email in inbox: # for every email in our list\n",
    "    if never_spam(...): # if it is never spam\n",
    "        status.append('good')# mark as good\n",
    "    elif maybe_spam(...):\n",
    "        # use math.random to get a random decimal between 0 <= x < 1\n",
    "        if math.random() <= .7:\n",
    "            status.append('spam')\n",
    "        else:\n",
    "            status.append('good')\n",
    "    else:\n",
    "        if math.random() <= .1:\n",
    "            status.append('spam')\n",
    "        else:\n",
    "            status.append('good')\n",
    "        \n",
    "        "
   ]
  }
 ],
 "metadata": {
  "kernelspec": {
   "display_name": "Python 3",
   "language": "python",
   "name": "python3"
  },
  "language_info": {
   "codemirror_mode": {
    "name": "ipython",
    "version": 3
   },
   "file_extension": ".py",
   "mimetype": "text/x-python",
   "name": "python",
   "nbconvert_exporter": "python",
   "pygments_lexer": "ipython3",
   "version": "3.9.2 (v3.9.2:1a79785e3e, Feb 19 2021, 09:06:10) \n[Clang 6.0 (clang-600.0.57)]"
  },
  "orig_nbformat": 4,
  "vscode": {
   "interpreter": {
    "hash": "7812ea015bdcee6f23a998adcdd2ef97c151c0c241b7b7070987d9313e41299d"
   }
  }
 },
 "nbformat": 4,
 "nbformat_minor": 2
}

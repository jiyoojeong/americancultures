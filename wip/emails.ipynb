{
 "cells": [
  {
   "cell_type": "code",
   "execution_count": 5,
   "metadata": {},
   "outputs": [],
   "source": [
    "import ldap"
   ]
  },
  {
   "cell_type": "code",
   "execution_count": 3,
   "metadata": {},
   "outputs": [],
   "source": [
    "def ldap_email_lookup(search_name):\n",
    "    # LDAP server details\n",
    "    ldap_server = 'ldap.berkeley.edu'\n",
    "    standard_port = 389\n",
    "    secure_port = 636\n",
    "    search_base = 'ou=people,dc=berkeley,dc=edu'\n",
    "    search_filter = '(cn={})'.format(search_name)\n",
    "    \n",
    "    # Establish a connection to the LDAP server\n",
    "    ldap_conn = ldap.initialize('ldap://{0}:{1}'.format(ldap_server, standard_port))\n",
    "    \n",
    "    try:\n",
    "        # Perform a secure bind using SSL/TLS\n",
    "        ldap_conn.start_tls_s()\n",
    "        \n",
    "        # Search for the email address using the search filter and base\n",
    "        ldap_result = ldap_conn.search_s(search_base, ldap.SCOPE_SUBTREE, search_filter)\n",
    "\n",
    "        # Extract the email address from the search result\n",
    "        if ldap_result:\n",
    "            email_address = ldap_result[0][1]['mail'][0].decode('utf-8')\n",
    "            return email_address\n",
    "        else:\n",
    "            return None\n",
    "        \n",
    "    except ldap.LDAPError as e:\n",
    "        print('LDAP Error: {}'.format(e))\n",
    "\n",
    "    finally:\n",
    "        # Close the LDAP connection\n",
    "        ldap_conn.unbind()\n"
   ]
  },
  {
   "cell_type": "code",
   "execution_count": 4,
   "metadata": {},
   "outputs": [
    {
     "name": "stdout",
     "output_type": "stream",
     "text": [
      "LDAP Error: {'result': -1, 'desc': \"Can't contact LDAP server\", 'errno': 57, 'ctrls': [], 'info': 'Socket is not connected'}\n",
      "Email address not found for the given search name.\n"
     ]
    }
   ],
   "source": [
    "\n",
    "# Provide the search name\n",
    "search_name = 'John Doe'\n",
    "\n",
    "# Call the function to perform the email lookup\n",
    "email = ldap_email_lookup(search_name)\n",
    "\n",
    "# Print the result\n",
    "if email:\n",
    "    print('Email Address: {}'.format(email))\n",
    "else:\n",
    "    print('Email address not found for the given search name.')"
   ]
  },
  {
   "cell_type": "code",
   "execution_count": null,
   "metadata": {},
   "outputs": [],
   "source": []
  }
 ],
 "metadata": {
  "kernelspec": {
   "display_name": "Python 3",
   "language": "python",
   "name": "python3"
  },
  "language_info": {
   "codemirror_mode": {
    "name": "ipython",
    "version": 3
   },
   "file_extension": ".py",
   "mimetype": "text/x-python",
   "name": "python",
   "nbconvert_exporter": "python",
   "pygments_lexer": "ipython3",
   "version": "3.9.2"
  },
  "orig_nbformat": 4
 },
 "nbformat": 4,
 "nbformat_minor": 2
}
